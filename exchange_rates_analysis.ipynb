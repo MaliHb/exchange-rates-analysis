{
 "cells": [
  {
   "cell_type": "markdown",
   "metadata": {},
   "source": [
    "### Challenge\n",
    "* [ Dataset source](#source)\n",
    "* [Dataset Features](#features)\n",
    "* [Connect to any exchange rates API](#connect) (Sample - [Exchange Rates API](https://exchangeratesapi.io/)) to get exchange rates of Australia to New Zealand for the past 30 days into json output format\n",
    "* [Pre process the data to manage any expected issues](#process)\n",
    "* [Perform some data analysis](#perform)\n",
    "    * Find the best and worst exchange rates for that time period\n",
    "    * Calculate the average exchange rate for the month\n",
    "* [Additional features or optimizations that you think are relevant and show off your skills.](#addition)\n"
   ]
  },
  {
   "cell_type": "markdown",
   "metadata": {},
   "source": [
    "### Connect to exchange rates <a name=\"connect\"></a>"
   ]
  },
  {
   "cell_type": "code",
   "execution_count": null,
   "metadata": {},
   "outputs": [],
   "source": [
    "#Importing the packages\n",
    "# pip install requests\n",
    "import requests\n",
    "import json\n",
    "from datetime import datetime, timedelta\n",
    "import pandas as pd"
   ]
  },
  {
   "cell_type": "markdown",
   "metadata": {},
   "source": [
    "### Connect to exchange rates <a name=\"connect\"></a>"
   ]
  },
  {
   "cell_type": "markdown",
   "metadata": {},
   "source": [
    "Trying to retrieve the data from Exchange Rate API"
   ]
  },
  {
   "cell_type": "code",
   "execution_count": null,
   "metadata": {},
   "outputs": [],
   "source": [
    "# Function to get the exchange rate for a specific date\n",
    "def get_exchange_rate(api_key, date, base_currency='AUD', target_currency='NZD'):\n",
    "    url = f\"http://api.exchangeratesapi.io/v1/{date}\"\n",
    "    params = {\n",
    "        'access_key': api_key,\n",
    "        'base': base_currency,\n",
    "        'symbols': target_currency\n",
    "    }\n",
    "    \n",
    "    response = requests.get(url, params=params)\n",
    "    \n",
    "    if response.status_code == 200:\n",
    "        data = response.json()\n",
    "        return data\n",
    "    else:\n",
    "        print(f\"Error fetching data for {date}: {response.status_code}\")\n",
    "        print(f\"Response: {response.json()}\")\n",
    "        return None\n",
    "\n",
    "# Main function to execute the code\n",
    "def main():\n",
    "    api_key = \"018023d5b0172abaa8faddef06410a09\"\n",
    "    end_date = datetime.today()\n",
    "    start_date = end_date - timedelta(days=30)\n",
    "    \n",
    "    exchange_rates = {}\n",
    "    \n",
    "    for single_date in (start_date + timedelta(n) for n in range(30)):\n",
    "        formatted_date = single_date.strftime('%Y-%m-%d')\n",
    "        data = get_exchange_rate(api_key, formatted_date)\n",
    "        \n",
    "        if data:\n",
    "            exchange_rates[formatted_date] = data['rates'][target_currency]\n",
    "    \n",
    "    with open('exchange_rates.json', 'w') as json_file:\n",
    "        json.dump(exchange_rates, json_file, indent=4)\n",
    "    \n",
    "    print(\"Exchange rates data has been saved to exchange_rates.json\")\n",
    "\n",
    "# Run the main function\n",
    "if __name__ == \"__main__\":\n",
    "    main()\n"
   ]
  }
 ],
 "metadata": {
  "kernelspec": {
   "display_name": "Python 3",
   "language": "python",
   "name": "python3"
  },
  "language_info": {
   "codemirror_mode": {
    "name": "ipython",
    "version": 3
   },
   "file_extension": ".py",
   "mimetype": "text/x-python",
   "name": "python",
   "nbconvert_exporter": "python",
   "pygments_lexer": "ipython3",
   "version": "3.7.6"
  }
 },
 "nbformat": 4,
 "nbformat_minor": 4
}

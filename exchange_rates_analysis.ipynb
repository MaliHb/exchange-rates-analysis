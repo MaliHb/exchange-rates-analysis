{
 "cells": [
  {
   "cell_type": "markdown",
   "metadata": {},
   "source": [
    "### Challenge\n",
    "* [ Dataset source](#source)\n",
    "* [Dataset Features](#features)\n",
    "* [Connect to any exchange rates API](#connect) (Sample - [Exchange Rates API](https://exchangeratesapi.io/)) to get exchange rates of Australia to New Zealand for the past 30 days into json output format\n",
    "* [Pre process the data to manage any expected issues](#process)\n",
    "* [Perform some data analysis](#perform)\n",
    "    * Find the best and worst exchange rates for that time period\n",
    "    * Calculate the average exchange rate for the month\n",
    "* [Additional features or optimizations that you think are relevant and show off your skills.](#addition)\n",
    "\n",
    "### Dataset Source: <a name=\"source\"></a> \n",
    "Historical exchange rates for AUD to NZD using Yahoo Finance\n",
    "https://au.finance.yahoo.com/\n",
    "\n",
    "\n",
    "### Dataset Features:<a name=\"features\"></a>\n",
    "\n",
    "| Feature name | Data type | Units     | Description |\n",
    "| ------------ | --------- | --------- |------------ |\n",
    "| Open | numerical | Exchange rate (AUD to NZD) | The price of the exchange rate at the beginning of the trading period (typically the start of the trading day). |\n",
    "| High | numerical | Exchange rate (AUD to NZD) | The highest price of the exchange rate during the trading period. |\n",
    "| Low | numerical | Exchange rate (AUD to NZD) | The lowest price of the exchange rate during the trading period. |\n",
    "| Close | numerical | Exchange rate (AUD to NZD) | The price of the exchange rate at the end of the trading period (typically the end of the trading day). |\n",
    "| Adj Close | numerical | Exchange rate (AUD to NZD) | The closing price after adjustments for all applicable splits and dividend distributions. |\n",
    "| Volume | numerical | Number of units (volume) | The number of units (e.g., currency units or contracts) traded during the trading period. |\n"
   ]
  },
  {
   "cell_type": "markdown",
   "metadata": {},
   "source": [
    "### Connect to exchange rates <a name=\"connect\"></a>"
   ]
  },
  {
   "cell_type": "code",
   "execution_count": null,
   "metadata": {},
   "outputs": [],
   "source": [
    "#Importing the packages\n",
    "# pip install yfinance\n",
    "import json\n",
    "from datetime import datetime, timedelta\n",
    "import yfinance as yf #to download historical market data from Yahoo Finance\n",
    "import pandas as pd\n",
    "import logging"
   ]
  },
  {
   "cell_type": "markdown",
   "metadata": {},
   "source": [
    "### Connect to exchange rates <a name=\"connect\"></a>"
   ]
  },
  {
   "cell_type": "markdown",
   "metadata": {},
   "source": [
    "Retrieve the data from Exchange Rate API"
   ]
  },
  {
   "cell_type": "code",
   "execution_count": null,
   "metadata": {},
   "outputs": [],
   "source": [
    "# Function to get the exchange rates for the past 30 days\n",
    "def get_exchange_rates():\n",
    "    \n",
    "    try:\n",
    "        end_date = datetime.today()\n",
    "        start_date = end_date - timedelta(days=30)\n",
    "\n",
    "        # Fetching the historical exchange rates for AUD to NZD\n",
    "        data = yf.download('AUDNZD=X', start=start_date.strftime('%Y-%m-%d'), end=end_date.strftime('%Y-%m-%d'))\n",
    "\n",
    "        # Prepare data in dictionary format\n",
    "        exchange_rates = {}\n",
    "        for date, row in data.iterrows():\n",
    "            exchange_rates[date.strftime('%Y-%m-%d')] = {\n",
    "                'Open': row['Open'],\n",
    "                'High': row['High'],\n",
    "                'Low': row['Low'],\n",
    "                'Close': row['Close'],\n",
    "                'Adj Close': row['Adj Close'],\n",
    "                'Volume': row['Volume']\n",
    "            }\n",
    "\n",
    "        return exchange_rates\n",
    "    except Exception as e:\n",
    "        logging.error(f\"Error downloding data:{e}\")\n",
    "        raise\n",
    "\n",
    "# Save the exchange rates data to a JSON file\n",
    "def save_exchange_rates_to_json(exchange_rates, filename='exchange_rates.json'):\n",
    "    try:\n",
    "        with open('exchange_rates.json', 'w') as json_file:\n",
    "            json.dump(exchange_rates, json_file, indent=4)    \n",
    "        print(\"Exchange rates data has been saved to exchange_rates.json\")\n",
    "    except Exception as e:\n",
    "        print(f\"Error saving exchange rates to JSON: {e}\")\n",
    "\n",
    "# Main function to execute the code\n",
    "def main():\n",
    "    exchange_rates = get_exchange_rates()\n",
    "    if exchange_rates:\n",
    "        save_exchange_rates_to_json(exchange_rates)\n",
    "\n",
    "# Run the main function\n",
    "if __name__ == \"__main__\":\n",
    "    main()\n"
   ]
  },
  {
   "cell_type": "markdown",
   "metadata": {},
   "source": [
    "### Pre process the data to manage any expected issues <a name=\"process\"><a/> "
   ]
  },
  {
   "cell_type": "code",
   "execution_count": null,
   "metadata": {},
   "outputs": [],
   "source": [
    "# Configure logging\n",
    "logging.basicConfig(level=logging.INFO, format='%(asctime)s - %(levelname)s - %(message)s')\n",
    "\n",
    "# Path to the JSON file\n",
    "json_file_path = 'exchange_rates.json'\n",
    "\n",
    "try:\n",
    "    # Read the JSON file\n",
    "    with open(json_file_path, 'r') as file:\n",
    "        exchange_rates = json.load(file)\n",
    "\n",
    "    # Convert the dictionary to a DataFrame\n",
    "    exchange_df = pd.DataFrame.from_dict(exchange_rates, orient='index')\n",
    "    logging.info(\"DataFrame created successfully from JSON data.\")\n",
    "    \n",
    "    # Convert the index to datetime\n",
    "    exchange_df.index = pd.to_datetime(exchange_df.index)\n",
    "    logging.info(\"Index converted to datetime successfully.\")\n",
    "\n",
    "except (json.JSONDecodeError, FileNotFoundError) as e:\n",
    "    logging.error(f\"Error loading JSON: {e}\")\n",
    "except (ValueError, TypeError) as e:\n",
    "    logging.error(f\"Error converting JSON: {e}\")\n",
    "except Exception as e:\n",
    "    logging.error(f\"Unexpected error: {e}\")"
   ]
  },
  {
   "cell_type": "markdown",
   "metadata": {},
   "source": [
    "Check the shape of this dataset to make sure it has been downloaded correctly"
   ]
  },
  {
   "cell_type": "code",
   "execution_count": null,
   "metadata": {},
   "outputs": [],
   "source": [
    "exchange_df.shape"
   ]
  },
  {
   "cell_type": "markdown",
   "metadata": {},
   "source": [
    "Have a look at 10 randomly selected rows in this raw dataset."
   ]
  },
  {
   "cell_type": "code",
   "execution_count": null,
   "metadata": {},
   "outputs": [],
   "source": [
    "exchange_df.sample(n=10, random_state=8)"
   ]
  },
  {
   "cell_type": "markdown",
   "metadata": {},
   "source": [
    "Checking for Missing Values "
   ]
  },
  {
   "cell_type": "code",
   "execution_count": null,
   "metadata": {},
   "outputs": [],
   "source": [
    "exchange_df.isna().sum()"
   ]
  },
  {
   "cell_type": "markdown",
   "metadata": {},
   "source": [
    "Drop rows with any missing values"
   ]
  },
  {
   "cell_type": "code",
   "execution_count": null,
   "metadata": {},
   "outputs": [],
   "source": [
    "exchange_df = exchange_df.dropna()"
   ]
  },
  {
   "cell_type": "markdown",
   "metadata": {},
   "source": [
    "The summary statistics for the full data"
   ]
  },
  {
   "cell_type": "code",
   "execution_count": null,
   "metadata": {},
   "outputs": [],
   "source": [
    "exchange_df.describe(include = 'all')"
   ]
  },
  {
   "cell_type": "markdown",
   "metadata": {},
   "source": [
    "Checking on Data types to check if it needs conversion (to ensure all numerical columns are floats)"
   ]
  },
  {
   "cell_type": "code",
   "execution_count": null,
   "metadata": {},
   "outputs": [],
   "source": [
    "print(exchange_df.dtypes)"
   ]
  },
  {
   "cell_type": "markdown",
   "metadata": {},
   "source": [
    "### Perform some data analysis <a name = \"perform\"></a>\n",
    "\n"
   ]
  },
  {
   "cell_type": "code",
   "execution_count": null,
   "metadata": {},
   "outputs": [],
   "source": []
  }
 ],
 "metadata": {
  "kernelspec": {
   "display_name": "Python 3",
   "language": "python",
   "name": "python3"
  },
  "language_info": {
   "codemirror_mode": {
    "name": "ipython",
    "version": 3
   },
   "file_extension": ".py",
   "mimetype": "text/x-python",
   "name": "python",
   "nbconvert_exporter": "python",
   "pygments_lexer": "ipython3",
   "version": "3.7.6"
  }
 },
 "nbformat": 4,
 "nbformat_minor": 4
}

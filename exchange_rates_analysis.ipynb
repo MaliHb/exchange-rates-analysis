{
 "cells": [
  {
   "cell_type": "markdown",
   "metadata": {},
   "source": [
    "### Challenge\n",
    "* [ Dataset source](#source)\n",
    "* [Dataset Features](#features)\n",
    "* [Connect to any exchange rates API](#connect) (Sample - [Exchange Rates API](https://exchangeratesapi.io/)) to get exchange rates of Australia to New Zealand for the past 30 days into json output format\n",
    "* [Pre process the data to manage any expected issues](#process)\n",
    "* [Perform some data analysis](#perform)\n",
    "    * Find the best and worst exchange rates for that time period\n",
    "    * Calculate the average exchange rate for the month\n",
    "* [Additional features or optimizations that you think are relevant and show off your skills.](#addition)\n",
    "\n",
    "### Dataset Source: <a name=\"source\"></a> \n",
    "Historical exchange rates for AUD to NZD using Yahoo Finance\n",
    "https://au.finance.yahoo.com/\n",
    "\n",
    "\n",
    "### Dataset Features:<a name=\"features\"></a>\n",
    "\n",
    "| Feature name | Data type | Units     | Description |\n",
    "| ------------ | --------- | --------- |------------ |\n",
    "| Open | numerical | Exchange rate (AUD to NZD) | The price of the exchange rate at the beginning of the trading period (typically the start of the trading day). |\n",
    "| High | numerical | Exchange rate (AUD to NZD) | The highest price of the exchange rate during the trading period. |\n",
    "| Low | numerical | Exchange rate (AUD to NZD) | The lowest price of the exchange rate during the trading period. |\n",
    "| Close | numerical | Exchange rate (AUD to NZD) | The price of the exchange rate at the end of the trading period (typically the end of the trading day). |\n",
    "| Adj Close | numerical | Exchange rate (AUD to NZD) | The closing price after adjustments for all applicable splits and dividend distributions. |\n",
    "| Volume | numerical | Number of units (volume) | The number of units (e.g., currency units or contracts) traded during the trading period. |\n"
   ]
  },
  {
   "cell_type": "markdown",
   "metadata": {},
   "source": [
    "### Connect to exchange rates <a name=\"connect\"></a>"
   ]
  },
  {
   "cell_type": "code",
   "execution_count": 16,
   "metadata": {},
   "outputs": [],
   "source": [
    "#Importing the packages\n",
    "# pip install yfinance\n",
    "import json\n",
    "from datetime import datetime, timedelta\n",
    "import yfinance as yf #to download historical market data from Yahoo Finance\n",
    "import pandas as pd\n",
    "import logging\n",
    "import matplotlib.pyplot as plt"
   ]
  },
  {
   "cell_type": "markdown",
   "metadata": {},
   "source": [
    "### Connect to exchange rates <a name=\"connect\"></a>"
   ]
  },
  {
   "cell_type": "markdown",
   "metadata": {},
   "source": [
    "Retrieve the data from Exchange Rate API"
   ]
  },
  {
   "cell_type": "code",
   "execution_count": 2,
   "metadata": {},
   "outputs": [
    {
     "name": "stderr",
     "output_type": "stream",
     "text": [
      "\r",
      "[*********************100%%**********************]  1 of 1 completed"
     ]
    },
    {
     "name": "stdout",
     "output_type": "stream",
     "text": [
      "Exchange rates data has been saved to exchange_rates.json\n"
     ]
    },
    {
     "name": "stderr",
     "output_type": "stream",
     "text": [
      "\n"
     ]
    }
   ],
   "source": [
    "# Function to get the exchange rates for the past 30 days\n",
    "def get_exchange_rates():\n",
    "    \n",
    "    try:\n",
    "        end_date = datetime.today()\n",
    "        start_date = end_date - timedelta(days=30)\n",
    "\n",
    "        # Fetching the historical exchange rates for AUD to NZD\n",
    "        data = yf.download('AUDNZD=X', start=start_date.strftime('%Y-%m-%d'), end=end_date.strftime('%Y-%m-%d'))\n",
    "\n",
    "        # Prepare data in dictionary format\n",
    "        exchange_rates = {}\n",
    "        for date, row in data.iterrows():\n",
    "            exchange_rates[date.strftime('%Y-%m-%d')] = {\n",
    "                'Open': row['Open'],\n",
    "                'High': row['High'],\n",
    "                'Low': row['Low'],\n",
    "                'Close': row['Close'],\n",
    "                'Adj Close': row['Adj Close'],\n",
    "                'Volume': row['Volume']\n",
    "            }\n",
    "\n",
    "        return exchange_rates\n",
    "    except Exception as e:\n",
    "        logging.error(f\"Error downloding data:{e}\")\n",
    "        raise\n",
    "\n",
    "# Save the exchange rates data to a JSON file\n",
    "def save_exchange_rates_to_json(exchange_rates, filename='exchange_rates.json'):\n",
    "    try:\n",
    "        with open('exchange_rates.json', 'w') as json_file:\n",
    "            json.dump(exchange_rates, json_file, indent=4)    \n",
    "        print(\"Exchange rates data has been saved to exchange_rates.json\")\n",
    "    except Exception as e:\n",
    "        print(f\"Error saving exchange rates to JSON: {e}\")\n",
    "\n",
    "# Main function to execute the code\n",
    "def main():\n",
    "    exchange_rates = get_exchange_rates()\n",
    "    if exchange_rates:\n",
    "        save_exchange_rates_to_json(exchange_rates)\n",
    "\n",
    "# Run the main function\n",
    "if __name__ == \"__main__\":\n",
    "    main()\n"
   ]
  },
  {
   "cell_type": "markdown",
   "metadata": {},
   "source": [
    "### Pre process the data to manage any expected issues <a name=\"process\"><a/> "
   ]
  },
  {
   "cell_type": "code",
   "execution_count": 3,
   "metadata": {},
   "outputs": [
    {
     "name": "stderr",
     "output_type": "stream",
     "text": [
      "2024-06-24 00:22:40,440 - INFO - DataFrame created successfully from JSON data.\n",
      "2024-06-24 00:22:40,441 - INFO - Index converted to datetime successfully.\n"
     ]
    }
   ],
   "source": [
    "# Configure logging\n",
    "logging.basicConfig(level=logging.INFO, format='%(asctime)s - %(levelname)s - %(message)s')\n",
    "\n",
    "# Path to the JSON file\n",
    "json_file_path = 'exchange_rates.json'\n",
    "\n",
    "try:\n",
    "    # Read the JSON file\n",
    "    with open(json_file_path, 'r') as file:\n",
    "        exchange_rates = json.load(file)\n",
    "\n",
    "    # Convert the dictionary to a DataFrame\n",
    "    exchange_df = pd.DataFrame.from_dict(exchange_rates, orient='index')\n",
    "    logging.info(\"DataFrame created successfully from JSON data.\")\n",
    "    \n",
    "    # Convert the index to datetime\n",
    "    exchange_df.index = pd.to_datetime(exchange_df.index)\n",
    "    logging.info(\"Index converted to datetime successfully.\")\n",
    "\n",
    "except (json.JSONDecodeError, FileNotFoundError) as e:\n",
    "    logging.error(f\"Error loading JSON: {e}\")\n",
    "except (ValueError, TypeError) as e:\n",
    "    logging.error(f\"Error converting JSON: {e}\")\n",
    "except Exception as e:\n",
    "    logging.error(f\"Unexpected error: {e}\")"
   ]
  },
  {
   "cell_type": "markdown",
   "metadata": {},
   "source": [
    "Check the shape of this dataset to make sure it has been downloaded correctly"
   ]
  },
  {
   "cell_type": "code",
   "execution_count": 4,
   "metadata": {},
   "outputs": [
    {
     "data": {
      "text/plain": [
       "(21, 6)"
      ]
     },
     "execution_count": 4,
     "metadata": {},
     "output_type": "execute_result"
    }
   ],
   "source": [
    "exchange_df.shape"
   ]
  },
  {
   "cell_type": "markdown",
   "metadata": {},
   "source": [
    "Have a look at 10 randomly selected rows in this raw dataset."
   ]
  },
  {
   "cell_type": "code",
   "execution_count": 5,
   "metadata": {},
   "outputs": [
    {
     "data": {
      "text/html": [
       "<div>\n",
       "<style scoped>\n",
       "    .dataframe tbody tr th:only-of-type {\n",
       "        vertical-align: middle;\n",
       "    }\n",
       "\n",
       "    .dataframe tbody tr th {\n",
       "        vertical-align: top;\n",
       "    }\n",
       "\n",
       "    .dataframe thead th {\n",
       "        text-align: right;\n",
       "    }\n",
       "</style>\n",
       "<table border=\"1\" class=\"dataframe\">\n",
       "  <thead>\n",
       "    <tr style=\"text-align: right;\">\n",
       "      <th></th>\n",
       "      <th>Open</th>\n",
       "      <th>High</th>\n",
       "      <th>Low</th>\n",
       "      <th>Close</th>\n",
       "      <th>Adj Close</th>\n",
       "      <th>Volume</th>\n",
       "    </tr>\n",
       "  </thead>\n",
       "  <tbody>\n",
       "    <tr>\n",
       "      <th>2024-06-04</th>\n",
       "      <td>1.079200</td>\n",
       "      <td>1.080920</td>\n",
       "      <td>1.07020</td>\n",
       "      <td>1.079200</td>\n",
       "      <td>1.079200</td>\n",
       "      <td>0.0</td>\n",
       "    </tr>\n",
       "    <tr>\n",
       "      <th>2024-06-05</th>\n",
       "      <td>1.076340</td>\n",
       "      <td>1.077294</td>\n",
       "      <td>1.07290</td>\n",
       "      <td>1.076340</td>\n",
       "      <td>1.076340</td>\n",
       "      <td>0.0</td>\n",
       "    </tr>\n",
       "    <tr>\n",
       "      <th>2024-05-31</th>\n",
       "      <td>1.084010</td>\n",
       "      <td>1.084688</td>\n",
       "      <td>1.08027</td>\n",
       "      <td>1.084010</td>\n",
       "      <td>1.084010</td>\n",
       "      <td>0.0</td>\n",
       "    </tr>\n",
       "    <tr>\n",
       "      <th>2024-06-11</th>\n",
       "      <td>1.078220</td>\n",
       "      <td>1.078340</td>\n",
       "      <td>1.07510</td>\n",
       "      <td>1.078220</td>\n",
       "      <td>1.078220</td>\n",
       "      <td>0.0</td>\n",
       "    </tr>\n",
       "    <tr>\n",
       "      <th>2024-06-13</th>\n",
       "      <td>1.076930</td>\n",
       "      <td>1.078250</td>\n",
       "      <td>1.07480</td>\n",
       "      <td>1.076930</td>\n",
       "      <td>1.076930</td>\n",
       "      <td>0.0</td>\n",
       "    </tr>\n",
       "    <tr>\n",
       "      <th>2024-06-12</th>\n",
       "      <td>1.075130</td>\n",
       "      <td>1.077770</td>\n",
       "      <td>1.06960</td>\n",
       "      <td>1.075130</td>\n",
       "      <td>1.075130</td>\n",
       "      <td>0.0</td>\n",
       "    </tr>\n",
       "    <tr>\n",
       "      <th>2024-06-14</th>\n",
       "      <td>1.076576</td>\n",
       "      <td>1.078800</td>\n",
       "      <td>1.07278</td>\n",
       "      <td>1.076576</td>\n",
       "      <td>1.076576</td>\n",
       "      <td>0.0</td>\n",
       "    </tr>\n",
       "    <tr>\n",
       "      <th>2024-06-10</th>\n",
       "      <td>1.077981</td>\n",
       "      <td>1.079710</td>\n",
       "      <td>1.07710</td>\n",
       "      <td>1.077981</td>\n",
       "      <td>1.077981</td>\n",
       "      <td>0.0</td>\n",
       "    </tr>\n",
       "    <tr>\n",
       "      <th>2024-05-29</th>\n",
       "      <td>1.082559</td>\n",
       "      <td>1.084888</td>\n",
       "      <td>1.08050</td>\n",
       "      <td>1.082600</td>\n",
       "      <td>1.082600</td>\n",
       "      <td>0.0</td>\n",
       "    </tr>\n",
       "    <tr>\n",
       "      <th>2024-06-20</th>\n",
       "      <td>1.087239</td>\n",
       "      <td>1.089150</td>\n",
       "      <td>1.08580</td>\n",
       "      <td>1.087239</td>\n",
       "      <td>1.087239</td>\n",
       "      <td>0.0</td>\n",
       "    </tr>\n",
       "  </tbody>\n",
       "</table>\n",
       "</div>"
      ],
      "text/plain": [
       "                Open      High      Low     Close  Adj Close  Volume\n",
       "2024-06-04  1.079200  1.080920  1.07020  1.079200   1.079200     0.0\n",
       "2024-06-05  1.076340  1.077294  1.07290  1.076340   1.076340     0.0\n",
       "2024-05-31  1.084010  1.084688  1.08027  1.084010   1.084010     0.0\n",
       "2024-06-11  1.078220  1.078340  1.07510  1.078220   1.078220     0.0\n",
       "2024-06-13  1.076930  1.078250  1.07480  1.076930   1.076930     0.0\n",
       "2024-06-12  1.075130  1.077770  1.06960  1.075130   1.075130     0.0\n",
       "2024-06-14  1.076576  1.078800  1.07278  1.076576   1.076576     0.0\n",
       "2024-06-10  1.077981  1.079710  1.07710  1.077981   1.077981     0.0\n",
       "2024-05-29  1.082559  1.084888  1.08050  1.082600   1.082600     0.0\n",
       "2024-06-20  1.087239  1.089150  1.08580  1.087239   1.087239     0.0"
      ]
     },
     "execution_count": 5,
     "metadata": {},
     "output_type": "execute_result"
    }
   ],
   "source": [
    "exchange_df.sample(n=10, random_state=8)"
   ]
  },
  {
   "cell_type": "markdown",
   "metadata": {},
   "source": [
    "Checking for Missing Values "
   ]
  },
  {
   "cell_type": "code",
   "execution_count": 6,
   "metadata": {},
   "outputs": [
    {
     "data": {
      "text/plain": [
       "Open         0\n",
       "High         0\n",
       "Low          0\n",
       "Close        0\n",
       "Adj Close    0\n",
       "Volume       0\n",
       "dtype: int64"
      ]
     },
     "execution_count": 6,
     "metadata": {},
     "output_type": "execute_result"
    }
   ],
   "source": [
    "exchange_df.isna().sum()"
   ]
  },
  {
   "cell_type": "markdown",
   "metadata": {},
   "source": [
    "Drop rows with any missing values"
   ]
  },
  {
   "cell_type": "code",
   "execution_count": 7,
   "metadata": {},
   "outputs": [],
   "source": [
    "exchange_df = exchange_df.dropna()"
   ]
  },
  {
   "cell_type": "markdown",
   "metadata": {},
   "source": [
    "The summary statistics for the full data"
   ]
  },
  {
   "cell_type": "code",
   "execution_count": 8,
   "metadata": {},
   "outputs": [
    {
     "data": {
      "text/html": [
       "<div>\n",
       "<style scoped>\n",
       "    .dataframe tbody tr th:only-of-type {\n",
       "        vertical-align: middle;\n",
       "    }\n",
       "\n",
       "    .dataframe tbody tr th {\n",
       "        vertical-align: top;\n",
       "    }\n",
       "\n",
       "    .dataframe thead th {\n",
       "        text-align: right;\n",
       "    }\n",
       "</style>\n",
       "<table border=\"1\" class=\"dataframe\">\n",
       "  <thead>\n",
       "    <tr style=\"text-align: right;\">\n",
       "      <th></th>\n",
       "      <th>Open</th>\n",
       "      <th>High</th>\n",
       "      <th>Low</th>\n",
       "      <th>Close</th>\n",
       "      <th>Adj Close</th>\n",
       "      <th>Volume</th>\n",
       "    </tr>\n",
       "  </thead>\n",
       "  <tbody>\n",
       "    <tr>\n",
       "      <th>count</th>\n",
       "      <td>21.000000</td>\n",
       "      <td>21.000000</td>\n",
       "      <td>21.000000</td>\n",
       "      <td>21.000000</td>\n",
       "      <td>21.000000</td>\n",
       "      <td>21.0</td>\n",
       "    </tr>\n",
       "    <tr>\n",
       "      <th>mean</th>\n",
       "      <td>1.080281</td>\n",
       "      <td>1.082020</td>\n",
       "      <td>1.077606</td>\n",
       "      <td>1.080276</td>\n",
       "      <td>1.080276</td>\n",
       "      <td>0.0</td>\n",
       "    </tr>\n",
       "    <tr>\n",
       "      <th>std</th>\n",
       "      <td>0.004021</td>\n",
       "      <td>0.003967</td>\n",
       "      <td>0.004859</td>\n",
       "      <td>0.004014</td>\n",
       "      <td>0.004014</td>\n",
       "      <td>0.0</td>\n",
       "    </tr>\n",
       "    <tr>\n",
       "      <th>min</th>\n",
       "      <td>1.074040</td>\n",
       "      <td>1.075590</td>\n",
       "      <td>1.069600</td>\n",
       "      <td>1.074040</td>\n",
       "      <td>1.074040</td>\n",
       "      <td>0.0</td>\n",
       "    </tr>\n",
       "    <tr>\n",
       "      <th>25%</th>\n",
       "      <td>1.076930</td>\n",
       "      <td>1.078340</td>\n",
       "      <td>1.073650</td>\n",
       "      <td>1.076930</td>\n",
       "      <td>1.076930</td>\n",
       "      <td>0.0</td>\n",
       "    </tr>\n",
       "    <tr>\n",
       "      <th>50%</th>\n",
       "      <td>1.079200</td>\n",
       "      <td>1.082504</td>\n",
       "      <td>1.077200</td>\n",
       "      <td>1.079200</td>\n",
       "      <td>1.079200</td>\n",
       "      <td>0.0</td>\n",
       "    </tr>\n",
       "    <tr>\n",
       "      <th>75%</th>\n",
       "      <td>1.082559</td>\n",
       "      <td>1.084688</td>\n",
       "      <td>1.080500</td>\n",
       "      <td>1.082600</td>\n",
       "      <td>1.082600</td>\n",
       "      <td>0.0</td>\n",
       "    </tr>\n",
       "    <tr>\n",
       "      <th>max</th>\n",
       "      <td>1.087890</td>\n",
       "      <td>1.089150</td>\n",
       "      <td>1.085800</td>\n",
       "      <td>1.087890</td>\n",
       "      <td>1.087890</td>\n",
       "      <td>0.0</td>\n",
       "    </tr>\n",
       "  </tbody>\n",
       "</table>\n",
       "</div>"
      ],
      "text/plain": [
       "            Open       High        Low      Close  Adj Close  Volume\n",
       "count  21.000000  21.000000  21.000000  21.000000  21.000000    21.0\n",
       "mean    1.080281   1.082020   1.077606   1.080276   1.080276     0.0\n",
       "std     0.004021   0.003967   0.004859   0.004014   0.004014     0.0\n",
       "min     1.074040   1.075590   1.069600   1.074040   1.074040     0.0\n",
       "25%     1.076930   1.078340   1.073650   1.076930   1.076930     0.0\n",
       "50%     1.079200   1.082504   1.077200   1.079200   1.079200     0.0\n",
       "75%     1.082559   1.084688   1.080500   1.082600   1.082600     0.0\n",
       "max     1.087890   1.089150   1.085800   1.087890   1.087890     0.0"
      ]
     },
     "execution_count": 8,
     "metadata": {},
     "output_type": "execute_result"
    }
   ],
   "source": [
    "exchange_df.describe(include = 'all')"
   ]
  },
  {
   "cell_type": "markdown",
   "metadata": {},
   "source": [
    "Checking on Data types to check if it needs conversion (to ensure all numerical columns are floats)"
   ]
  },
  {
   "cell_type": "code",
   "execution_count": 9,
   "metadata": {},
   "outputs": [
    {
     "name": "stdout",
     "output_type": "stream",
     "text": [
      "Open         float64\n",
      "High         float64\n",
      "Low          float64\n",
      "Close        float64\n",
      "Adj Close    float64\n",
      "Volume       float64\n",
      "dtype: object\n"
     ]
    }
   ],
   "source": [
    "print(exchange_df.dtypes)"
   ]
  },
  {
   "cell_type": "markdown",
   "metadata": {},
   "source": [
    "### Perform some data analysis <a name = \"perform\"></a>\n",
    "\n",
    "* Find the best and worst exchange rates for that time period"
   ]
  },
  {
   "cell_type": "code",
   "execution_count": 10,
   "metadata": {},
   "outputs": [
    {
     "name": "stdout",
     "output_type": "stream",
     "text": [
      "Best exchange rate (2024-06-21): 1.0878900289535522\n",
      "Worst exchange rate (2024-06-06): 1.0740400552749634\n"
     ]
    }
   ],
   "source": [
    "# Find the best (highest) and worst (lowest) exchange rates\n",
    "best_rate = exchange_df['Close'].max()\n",
    "worst_rate = exchange_df['Close'].min()\n",
    "\n",
    "# Find the corresponding dates for best and worst rates\n",
    "best_date = exchange_df[exchange_df['Close'] == best_rate].index[0].strftime('%Y-%m-%d')\n",
    "worst_date = exchange_df[exchange_df['Close'] == worst_rate].index[0].strftime('%Y-%m-%d')\n",
    "\n",
    "# Print results\n",
    "print(f\"Best exchange rate ({best_date}): {best_rate}\")\n",
    "print(f\"Worst exchange rate ({worst_date}): {worst_rate}\")"
   ]
  },
  {
   "cell_type": "markdown",
   "metadata": {},
   "source": [
    "* Calculate the average exchange rate for the month"
   ]
  },
  {
   "cell_type": "code",
   "execution_count": 11,
   "metadata": {},
   "outputs": [
    {
     "name": "stdout",
     "output_type": "stream",
     "text": [
      "Average exchange rate for the month: 1.0802758705048334\n",
      "Median exchange rate for the month: 1.079200029373169\n",
      "Standard deviation of exchange rates for the month: 0.004013904307299755\n"
     ]
    }
   ],
   "source": [
    "# Calculate the average exchange rate for the month\n",
    "average_rate = exchange_df['Close'].mean()\n",
    "median_rate = exchange_df['Close'].median()\n",
    "std_dev_rate = exchange_df['Close'].std()\n",
    "\n",
    "# Print results\n",
    "print(f\"Average exchange rate for the month: {average_rate}\")\n",
    "print(f\"Median exchange rate for the month: {median_rate}\")\n",
    "print(f\"Standard deviation of exchange rates for the month: {std_dev_rate}\")"
   ]
  },
  {
   "cell_type": "code",
   "execution_count": 12,
   "metadata": {},
   "outputs": [
    {
     "name": "stdout",
     "output_type": "stream",
     "text": [
      "DataFrame has been saved to exchange_rates.csv\n"
     ]
    }
   ],
   "source": [
    "exchange_df.to_csv('exchange_rates.csv', index=True)\n",
    "print(\"DataFrame has been saved to exchange_rates.csv\")"
   ]
  },
  {
   "cell_type": "markdown",
   "metadata": {},
   "source": [
    "### additional features <a name = \"addition\"></a>\n",
    "\n",
    "Summary Report"
   ]
  },
  {
   "cell_type": "code",
   "execution_count": 13,
   "metadata": {},
   "outputs": [
    {
     "name": "stderr",
     "output_type": "stream",
     "text": [
      "2024-06-24 00:22:40,654 - INFO - Summary report saved to summary_report.json\n"
     ]
    }
   ],
   "source": [
    "summary = {\n",
    "    \"Best Exchange Rate\": best_rate,\n",
    "    \"Best Exchange Rate Date\": best_date,\n",
    "    \"Worst Exchange Rate\": worst_rate,\n",
    "    \"Worst Exchange Rate Date\": worst_date,\n",
    "    \"Average Exchange Rate\": average_rate,\n",
    "    \"Median Exchange Rate\": median_rate,\n",
    "    \"Standard Deviation\": std_dev_rate\n",
    "}\n",
    "\n",
    "summary_file_path = 'summary_report.json'\n",
    "try:\n",
    "    with open(summary_file_path, 'w') as file:\n",
    "        json.dump(summary, file, indent=4)\n",
    "    logging.info(f\"Summary report saved to {summary_file_path}\")\n",
    "except Exception as e:\n",
    "    logging.error(f\"Error saving summary report: {e}\")\n",
    "    raise\n"
   ]
  },
  {
   "cell_type": "markdown",
   "metadata": {},
   "source": [
    "#### Data Visualization\n",
    "\n",
    "##### Line plot"
   ]
  },
  {
   "cell_type": "code",
   "execution_count": 17,
   "metadata": {},
   "outputs": [
    {
     "data": {
      "image/png": "[encoded data removed]",
      "text/plain": [
       "<Figure size 720x432 with 1 Axes>"
      ]
     },
     "metadata": {
      "needs_background": "light"
     },
     "output_type": "display_data"
    }
   ],
   "source": [
    "plt.figure(figsize=(10, 6))\n",
    "plt.plot(exchange_df.index, exchange_df['Close'], marker='o', linestyle='-', color='b')\n",
    "plt.title('AUD to NZD Exchange Rate Over the Last 30 Days')\n",
    "plt.xlabel('Date')\n",
    "plt.ylabel('Exchange Rate')\n",
    "plt.grid(True)\n",
    "plt.savefig('exchange_rate_trend.png')\n",
    "plt.show()"
   ]
  },
  {
   "cell_type": "markdown",
   "metadata": {},
   "source": [
    "##### Histogram"
   ]
  },
  {
   "cell_type": "code",
   "execution_count": 18,
   "metadata": {},
   "outputs": [
    {
     "data": {
      "image/png": "[encoded data removed]",
      "text/plain": [
       "<Figure size 720x432 with 1 Axes>"
      ]
     },
     "metadata": {
      "needs_background": "light"
     },
     "output_type": "display_data"
    }
   ],
   "source": [
    "plt.figure(figsize=(10, 6))\n",
    "plt.hist(exchange_df['Close'], bins=15, color='blue', alpha=0.7)\n",
    "plt.title('Distribution of Close Exchange Rates')\n",
    "plt.xlabel('Exchange Rate')\n",
    "plt.ylabel('Frequency')\n",
    "plt.grid(True)\n",
    "plt.savefig('exchange_rate_distribution.png')\n",
    "plt.show()"
   ]
  },
  {
   "cell_type": "markdown",
   "metadata": {},
   "source": [
    "##### Box plot"
   ]
  },
  {
   "cell_type": "code",
   "execution_count": 19,
   "metadata": {},
   "outputs": [
    {
     "data": {
      "image/png": "[encoded data removed]",
      "text/plain": [
       "<Figure size 720x432 with 1 Axes>"
      ]
     },
     "metadata": {
      "needs_background": "light"
     },
     "output_type": "display_data"
    }
   ],
   "source": [
    "plt.figure(figsize=(10, 6))\n",
    "plt.boxplot(exchange_df['Close'], vert=False)\n",
    "plt.title('Box Plot of Close Exchange Rates')\n",
    "plt.xlabel('Exchange Rate')\n",
    "plt.grid(True)\n",
    "plt.savefig('exchange_rate_boxplot.png')\n",
    "plt.show()"
   ]
  },
  {
   "cell_type": "markdown",
   "metadata": {},
   "source": [
    "#####  Moving average plot"
   ]
  },
  {
   "cell_type": "code",
   "execution_count": 20,
   "metadata": {},
   "outputs": [
    {
     "data": {
      "image/png": "[encoded data removed]",
      "text/plain": [
       "<Figure size 720x432 with 1 Axes>"
      ]
     },
     "metadata": {
      "needs_background": "light"
     },
     "output_type": "display_data"
    }
   ],
   "source": [
    "exchange_df['Moving Average'] = exchange_df['Close'].rolling(window=5).mean()\n",
    "plt.figure(figsize=(10, 6))\n",
    "plt.plot(exchange_df.index, exchange_df['Close'], marker='o', linestyle='-', color='b', label='Close')\n",
    "plt.plot(exchange_df.index, exchange_df['Moving Average'], linestyle='--', color='r', label='Moving Average')\n",
    "plt.title('Close Exchange Rate with 5-Day Moving Average')\n",
    "plt.xlabel('Date')\n",
    "plt.ylabel('Exchange Rate')\n",
    "plt.legend()\n",
    "plt.grid(True)\n",
    "plt.savefig('exchange_rate_moving_average.png')\n",
    "plt.show()\n"
   ]
  }
 ],
 "metadata": {
  "kernelspec": {
   "display_name": "Python 3",
   "language": "python",
   "name": "python3"
  },
  "language_info": {
   "codemirror_mode": {
    "name": "ipython",
    "version": 3
   },
   "file_extension": ".py",
   "mimetype": "text/x-python",
   "name": "python",
   "nbconvert_exporter": "python",
   "pygments_lexer": "ipython3",
   "version": "3.7.6"
  }
 },
 "nbformat": 4,
 "nbformat_minor": 4
}

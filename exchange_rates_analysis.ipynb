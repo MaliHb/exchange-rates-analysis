{
 "cells": [
  {
   "cell_type": "markdown",
   "metadata": {},
   "source": [
    "### Challenge\n",
    "* [ Dataset source](#source)\n",
    "* [Dataset Features](#features)\n",
    "* [Connect to any exchange rates API](#connect) (Sample - [Exchange Rates API](https://exchangeratesapi.io/)) to get exchange rates of Australia to New Zealand for the past 30 days into json output format\n",
    "* [Pre process the data to manage any expected issues](#process)\n",
    "* [Perform some data analysis](#perform)\n",
    "    * Find the best and worst exchange rates for that time period\n",
    "    * Calculate the average exchange rate for the month\n",
    "* [Additional features or optimizations that you think are relevant and show off your skills.](#addition)\n"
   ]
  },
  {
   "cell_type": "markdown",
   "metadata": {},
   "source": [
    "### Connect to exchange rates <a name=\"connect\"></a>"
   ]
  },
  {
   "cell_type": "code",
   "execution_count": null,
   "metadata": {},
   "outputs": [],
   "source": [
    "#Importing the packages\n",
    "# pip install requests\n",
    "import requests\n",
    "import json\n",
    "from datetime import datetime, timedelta\n",
    "import pandas as pd"
   ]
  },
  {
   "cell_type": "markdown",
   "metadata": {},
   "source": [
    "### Connect to exchange rates <a name=\"connect\"></a>"
   ]
  },
  {
   "cell_type": "markdown",
   "metadata": {},
   "source": [
    "Trying to retrieve the data from Exchange Rate API"
   ]
  },
  {
   "cell_type": "code",
   "execution_count": null,
   "metadata": {},
   "outputs": [],
   "source": [
    "\n",
    "# Function to get the exchange rates for the past 30 days\n",
    "def get_exchange_rates(api_key, base_currency='AUD', target_currency='NZD'):\n",
    "    end_date = datetime.today()\n",
    "    start_date = end_date - timedelta(days=30)\n",
    "    \n",
    "    url = f\"http://api.exchangeratesapi.io/v1/timeseries\"\n",
    "    params = {\n",
    "        'access_key': api_key,\n",
    "        'start_date': start_date.strftime('%Y-%m-%d'),\n",
    "        'end_date': end_date.strftime('%Y-%m-%d'),\n",
    "        'base': base_currency,\n",
    "        'symbols': target_currency\n",
    "    }\n",
    "    \n",
    "    response = requests.get(url, params=params)\n",
    "    \n",
    "    if response.status_code == 200:\n",
    "        data = response.json()\n",
    "        return data\n",
    "    else:\n",
    "        print(f\"Error fetching data: {response.status_code}\")\n",
    "        print(f\"Response: {response.json()}\")\n",
    "        return None\n",
    "\n",
    "# Main function to execute the code\n",
    "def main():\n",
    "    api_key = \"018023d5b0172abaa8faddef06410a09\"\n",
    "    exchange_rates = get_exchange_rates(api_key)\n",
    "    \n",
    "    if exchange_rates:\n",
    "        with open('exchange_rates.json', 'w') as json_file:\n",
    "            json.dump(exchange_rates, json_file, indent=4)\n",
    "        print(\"Exchange rates data has been saved to exchange_rates.json\")\n",
    "    else:\n",
    "        print(\"Failed to fetch exchange rates data.\")\n",
    "\n",
    "# Run the main function\n",
    "if __name__ == \"__main__\":\n",
    "    main()\n"
   ]
  }
 ],
 "metadata": {
  "kernelspec": {
   "display_name": "Python 3",
   "language": "python",
   "name": "python3"
  },
  "language_info": {
   "codemirror_mode": {
    "name": "ipython",
    "version": 3
   },
   "file_extension": ".py",
   "mimetype": "text/x-python",
   "name": "python",
   "nbconvert_exporter": "python",
   "pygments_lexer": "ipython3",
   "version": "3.7.6"
  }
 },
 "nbformat": 4,
 "nbformat_minor": 4
}
